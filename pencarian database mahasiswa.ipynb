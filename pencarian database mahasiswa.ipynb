{
 "cells": [
  {
   "cell_type": "markdown",
   "source": [
    "# Program Pencarian Database Mahasiswa"
   ],
   "metadata": {}
  },
  {
   "cell_type": "code",
   "execution_count": 4,
   "source": [
    "data_mhs = {'nama' : ['Andjani Ayu', 'Raisa Adriana', 'Dianty Putri'],\r\n",
    "            'smt' : [5, 5, 5],\r\n",
    "            'kampus' : ['Universitas Sebelas Maret', 'Universitas Indonesia', 'Universitas Gadjah Mada'],\r\n",
    "            'jurusan' : ['Matematika', 'Desain Komunikasi Visual', 'Politik dan Pemerintahan']}\r\n",
    "\r\n",
    "input_nama = input('Masukkan Nama : ')\r\n",
    "\r\n",
    "for index, i in enumerate(data_mhs['nama']):\r\n",
    "    if input_nama.lower() in i.lower():\r\n",
    "        print('Nama : ', data_mhs['nama'][index])\r\n",
    "        print('Semester : ', data_mhs['smt'][index])\r\n",
    "        print('Kampus : ', data_mhs['kampus'][index])\r\n",
    "        print('Jurusan : ', data_mhs['jurusan'][index])\r\n",
    "        break\r\n",
    "    elif index == len(data_mhs['nama'])-1 and input_nama not in i :\r\n",
    "        print('Nama tidak ditemukan')\r\n",
    "        \r\n"
   ],
   "outputs": [
    {
     "output_type": "stream",
     "name": "stdout",
     "text": [
      "Nama :  Dianty Putri\n",
      "Semester :  5\n",
      "Kampus :  Universitas Gadjah Mada\n",
      "Jurusan :  Politik dan Pemerintahan\n"
     ]
    }
   ],
   "metadata": {}
  }
 ],
 "metadata": {
  "orig_nbformat": 4,
  "language_info": {
   "name": "python",
   "version": "3.9.7",
   "mimetype": "text/x-python",
   "codemirror_mode": {
    "name": "ipython",
    "version": 3
   },
   "pygments_lexer": "ipython3",
   "nbconvert_exporter": "python",
   "file_extension": ".py"
  },
  "kernelspec": {
   "name": "python3",
   "display_name": "Python 3.9.7 64-bit"
  },
  "interpreter": {
   "hash": "de1b16eaa89eb0cc6649a1aec871d5a71b18d6941d455434bf74592e3c1c524a"
  }
 },
 "nbformat": 4,
 "nbformat_minor": 2
}